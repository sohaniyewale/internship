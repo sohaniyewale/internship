{
  "nbformat": 4,
  "nbformat_minor": 0,
  "metadata": {
    "colab": {
      "provenance": [],
      "authorship_tag": "ABX9TyNJoPbp6BXHi4dIE93V+sMl",
      "include_colab_link": true
    },
    "kernelspec": {
      "name": "python3",
      "display_name": "Python 3"
    },
    "language_info": {
      "name": "python"
    }
  },
  "cells": [
    {
      "cell_type": "markdown",
      "metadata": {
        "id": "view-in-github",
        "colab_type": "text"
      },
      "source": [
        "<a href=\"https://colab.research.google.com/github/sohaniyewale/internship/blob/main/interns3.ipynb\" target=\"_parent\"><img src=\"https://colab.research.google.com/assets/colab-badge.svg\" alt=\"Open In Colab\"/></a>"
      ]
    },
    {
      "cell_type": "code",
      "execution_count": null,
      "metadata": {
        "colab": {
          "base_uri": "https://localhost:8080/"
        },
        "id": "WEuFoRHm8p9E",
        "outputId": "6308524d-4e39-4c81-9362-45523b1e80a8"
      },
      "outputs": [
        {
          "output_type": "stream",
          "name": "stdout",
          "text": [
            "\n",
            "==== Matrix Operations Tool ====\n",
            "1. Addition\n",
            "2. Subtraction\n",
            "3. Multiplication\n",
            "4. Transpose\n",
            "5. Determinant\n",
            "6. Exit\n"
          ]
        }
      ],
      "source": [
        "import numpy as np\n",
        "\n",
        "def get_matrix(name=\"Matrix\"):\n",
        "    print(f\"\\nEnter dimensions of {name}:\")\n",
        "    rows = int(input(\"Number of rows: \"))\n",
        "    cols = int(input(\"Number of columns: \"))\n",
        "    print(f\"Enter elements of {name} row by row (space-separated):\")\n",
        "    elements = []\n",
        "    for i in range(rows):\n",
        "        row = list(map(float, input(f\"Row {i+1}: \").split()))\n",
        "        if len(row) != cols:\n",
        "            raise ValueError(\"Number of elements does not match column size!\")\n",
        "        elements.append(row)\n",
        "    return np.array(elements)\n",
        "\n",
        "def display_matrix(matrix, title=\"Result\"):\n",
        "    print(f\"\\n--- {title} ---\")\n",
        "    print(matrix)\n",
        "    print(\"-------------------\")\n",
        "\n",
        "def matrix_operations():\n",
        "    while True:\n",
        "        print(\"\\n==== Matrix Operations Tool ====\")\n",
        "        print(\"1. Addition\")\n",
        "        print(\"2. Subtraction\")\n",
        "        print(\"3. Multiplication\")\n",
        "        print(\"4. Transpose\")\n",
        "        print(\"5. Determinant\")\n",
        "        print(\"6. Exit\")\n",
        "        choice = input(\"Select an option (1-6): \")\n",
        "        if choice == \"1\":\n",
        "            A = get_matrix(\"Matrix A\")\n",
        "            B = get_matrix(\"Matrix B\")\n",
        "            if A.shape == B.shape:\n",
        "                display_matrix(A + B, \"A + B\")\n",
        "            else:\n",
        "                print(\"Error: Matrices must have the same dimensions for addition.\")\n",
        "        elif choice == \"2\":\n",
        "            A = get_matrix(\"Matrix A\")\n",
        "            B = get_matrix(\"Matrix B\")\n",
        "            if A.shape == B.shape:\n",
        "                display_matrix(A - B, \"A - B\")\n",
        "            else:\n",
        "                print(\"Error: Matrices must have the same dimensions for subtraction.\")\n",
        "        elif choice == \"3\":\n",
        "            A = get_matrix(\"Matrix A\")\n",
        "            B = get_matrix(\"Matrix B\")\n",
        "            if A.shape[1] == B.shape[0]:\n",
        "                display_matrix(np.dot(A, B), \"A × B\")\n",
        "            else:\n",
        "                print(\"Error: Columns of A must equal rows of B for multiplication.\")\n",
        "        elif choice == \"4\":\n",
        "            A = get_matrix(\"Matrix A\")\n",
        "            display_matrix(A.T, \"Transpose of A\")\n",
        "        elif choice == \"5\":\n",
        "            A = get_matrix(\"Matrix A\")\n",
        "            if A.shape[0] == A.shape[1]:\n",
        "                display_matrix(round(np.linalg.det(A), 2), \"Determinant of A\")\n",
        "            else:\n",
        "                print(\"Error: Determinant can only be calculated for square matrices.\")\n",
        "        elif choice == \"6\":\n",
        "            print(\"Exiting Matrix Operations Tool. Goodbye!\")\n",
        "            break\n",
        "        else:\n",
        "            print(\"Invalid choice. Please select a number between 1 and 6.\")\n",
        "\n",
        "if __name__ == \"__main__\":\n",
        "    matrix_operations()\n"
      ]
    }
  ]
}